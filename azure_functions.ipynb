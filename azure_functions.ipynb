{
 "cells": [
  {
   "cell_type": "code",
   "execution_count": null,
   "metadata": {},
   "outputs": [],
   "source": [
    "from sklearn.metrics import accuracy_score\n",
    "from sklearn.model_selection import train_test_split\n",
    "from sklearn.datasets import load_iris\n",
    "import numpy as np\n",
    "import requests\n",
    "import json\n",
    "\n",
    "# Load data\n",
    "iris = load_iris()\n",
    "X = iris.data\n",
    "y = iris.target\n",
    "\n",
    "# Split data into test and training set\n",
    "_, X_test, _, y_test = train_test_split(\n",
    "    X, y, test_size=0.2, random_state=42\n",
    ")\n",
    "\n",
    "url = 'http://localhost:8080/api/predict'\n",
    "headers = {\n",
    "    'Content-type': \"application/json\"\n",
    "}\n",
    "\n",
    "data = json.dumps(X_test.tolist())\n",
    "response = requests.post(url, headers=headers, data=data)\n",
    "np.array(response.json())"
   ]
  },
  {
   "cell_type": "code",
   "execution_count": 3,
   "metadata": {},
   "outputs": [
    {
     "data": {
      "text/plain": [
       "array([1, 0, 2, 1, 1, 0, 1, 2, 1, 1, 2, 0, 0, 0, 0, 1, 2, 1, 1, 2, 0, 2,\n",
       "       0, 2, 2, 2, 2, 2, 0, 0])"
      ]
     },
     "execution_count": 3,
     "metadata": {},
     "output_type": "execute_result"
    }
   ],
   "source": [
    "from sklearn.metrics import accuracy_score\n",
    "from sklearn.model_selection import train_test_split\n",
    "from sklearn.datasets import load_iris\n",
    "import numpy as np\n",
    "import requests\n",
    "import json\n",
    "\n",
    "# Load data\n",
    "iris = load_iris()\n",
    "X = iris.data\n",
    "y = iris.target\n",
    "\n",
    "# Split data into test and training set\n",
    "_, X_test, _, y_test = train_test_split(\n",
    "    X, y, test_size=0.2, random_state=42\n",
    ")\n",
    "\n",
    "url = 'https://testfunctiondeployed.azurewebsites.net/api/predict'\n",
    "headers = {\n",
    "    'Content-type': \"application/json\"\n",
    "}\n",
    "data = json.dumps(X_test.tolist())\n",
    "response = requests.post(url, headers=headers, data=data)\n",
    "np.array(response.json())"
   ]
  },
  {
   "cell_type": "code",
   "execution_count": 26,
   "metadata": {},
   "outputs": [
    {
     "data": {
      "text/plain": [
       "<Response [503]>"
      ]
     },
     "execution_count": 26,
     "metadata": {},
     "output_type": "execute_result"
    }
   ],
   "source": [
    "response"
   ]
  },
  {
   "cell_type": "markdown",
   "metadata": {},
   "source": [
    "az ad sp create-for-rbac --name azurefunctions --role contributor --scopes /subscriptions/<ID>/resourceGroups/azurearmfunctiondocker --sdk-auth\n",
    "\n",
    "az role assignment create \\\n",
    "--role \"Key Vault resource manager template deployment operator\" \\\n",
    "--assignee-object-id 192c1539-12ae-4c65-a120-383cd24dc4a0 \\\n",
    "--resource-group mygroup \\\n",
    "--assignee-principal-type ServicePrincipal\n",
    "192c1539-12ae-4c65-a120-383cd24dc4a0"
   ]
  }
 ],
 "metadata": {
  "interpreter": {
   "hash": "edd02c36d13a73d96ce8d2a6019bf4bf0272af4493fc8332402c027b6d670551"
  },
  "kernelspec": {
   "display_name": "Python 3.9.7 64-bit ('aws-elasticbeanstalk-deploy-Wjj_eH5u-py3.9': poetry)",
   "language": "python",
   "name": "python3"
  },
  "language_info": {
   "codemirror_mode": {
    "name": "ipython",
    "version": 3
   },
   "file_extension": ".py",
   "mimetype": "text/x-python",
   "name": "python",
   "nbconvert_exporter": "python",
   "pygments_lexer": "ipython3",
   "version": "3.9.7"
  },
  "orig_nbformat": 4
 },
 "nbformat": 4,
 "nbformat_minor": 2
}
